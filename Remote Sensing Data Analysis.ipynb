{
 "cells": [
  {
   "cell_type": "code",
   "execution_count": null,
   "id": "2c944311",
   "metadata": {
    "scrolled": true
   },
   "outputs": [],
   "source": [
    "import numpy as np \n",
    "import pandas as pd\n",
    "\n",
    "import matplotlib.pyplot as plt \n",
    "\n",
    "from scipy import stats\n",
    "from scipy.stats import norm, skew\n",
    "# import statsmodel.api as sm \n"
   ]
  },
  {
   "cell_type": "code",
   "execution_count": null,
   "id": "f35f45d1",
   "metadata": {},
   "outputs": [],
   "source": [
    "#load station one data into pandas \n",
    "\n",
    "df_station_one = pd.read_csv('Station_one.csv')\n",
    "\n",
    "#index the data by date \n",
    "df_station_one['Date'] = pd.to_datetime(df_station_one['Date'],format = '%d/%m/%Y', errors = 'ignore')\n",
    "df_station_one = df_station_one.set_index('Date')\n",
    "\n",
    "\n"
   ]
  },
  {
   "cell_type": "code",
   "execution_count": null,
   "id": "07a84732",
   "metadata": {},
   "outputs": [],
   "source": []
  },
  {
   "cell_type": "code",
   "execution_count": null,
   "id": "06ef6a57",
   "metadata": {},
   "outputs": [],
   "source": []
  },
  {
   "cell_type": "code",
   "execution_count": null,
   "id": "d569c4a9",
   "metadata": {},
   "outputs": [],
   "source": []
  }
 ],
 "metadata": {
  "kernelspec": {
   "display_name": "Python 3 (ipykernel)",
   "language": "python",
   "name": "python3"
  },
  "language_info": {
   "codemirror_mode": {
    "name": "ipython",
    "version": 3
   },
   "file_extension": ".py",
   "mimetype": "text/x-python",
   "name": "python",
   "nbconvert_exporter": "python",
   "pygments_lexer": "ipython3",
   "version": "3.8.10"
  }
 },
 "nbformat": 4,
 "nbformat_minor": 5
}
